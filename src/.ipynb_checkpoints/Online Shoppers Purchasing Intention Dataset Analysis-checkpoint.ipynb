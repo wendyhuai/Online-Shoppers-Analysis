{
 "cells": [
  {
   "cell_type": "markdown",
   "metadata": {},
   "source": [
    "Zuxuan Huai\n",
    "\n",
    "Github Repo: https://github.com/wendyhuai/Online-Shoppers-Analysis"
   ]
  },
  {
   "cell_type": "markdown",
   "metadata": {},
   "source": [
    "# Introduction"
   ]
  },
  {
   "cell_type": "markdown",
   "metadata": {},
   "source": [
    "Over the last few years, e-commerce has become an indispensable part of the global retail framework. As more people choose to shop online, how and why, when and what makes a customer click on the \"purchase\" button is the question that many online retailers seek to answer.   \n",
    "\n",
    "This projects analyzes the online shoppers purchasing intention dataset from UCI Machine Learning Repository, and investigates what factors will classify a website visit as a visit with purchase made or without. \n",
    "\n",
    "This dataset contains 12330 rows and 18 columns. The target variable is the last column of the dataset, which is the revenue column with boolean values true or flase. A true means the user made a purchase in this visit, and a false means the user did not make a purchase. The goal of project is to classify whether a user made a purchase or not given his/her information.  \n",
    "\n",
    "The predictor variables are the first 17 columns (10 numerical and 7 categorical). \n",
    "- Administrative, Informational, ProductRelated: the number of different types of pages visited by the visitor in that session\n",
    "- Administrative_Duration, Informational_Duration, ProductRelated_Duration: total time spent in each of these page categories\n",
    "- BounceRates: the percentage of visitors who enter the site from that page and then leave (\"bounce\") without triggering any other requests to the analytics server during that session. \n",
    "- ExitRates: for all pageviews to the page, the percentage that were the last in the session\n",
    "- PageValues: the average value for a web page that a user visited before completing an e-commerce transaction\n",
    "- SpecialDay: numerical [0, 0.2, 0.4, 0.6, 0.8, 1] closeness of the site visiting time to a specific special day (e.g. Mother’s Day, Valentine's Day) \n",
    "- Month: 10 unique months, excluding Jan and Apr\n",
    "- OperatingSystems: 8 categories\n",
    "- Browser: 13 categories\n",
    "- Region: 9 categories\n",
    "- TrafficType: 20 categories\n",
    "- VisitorType: indicates a user is a returning visitor, new visitor, or other\n",
    "- Weekend: (Ture/False) whether the visit date is a weekend\n",
    "\n",
    "A real-time online shopper behavior nalysis system has been built using this dataset. The researchers has successfully predicted the urchasing intention using clickstream and session information data."
   ]
  },
  {
   "cell_type": "code",
   "execution_count": 2,
   "metadata": {},
   "outputs": [],
   "source": [
    "import pandas as pd\n",
    "import numpy as np\n",
    "import matplotlib.pyplot as plt"
   ]
  },
  {
   "cell_type": "code",
   "execution_count": 3,
   "metadata": {},
   "outputs": [],
   "source": [
    "df = pd.read_csv(\"../data/online_shoppers_intention.csv\")"
   ]
  },
  {
   "cell_type": "markdown",
   "metadata": {},
   "source": [
    "# EDA"
   ]
  },
  {
   "cell_type": "markdown",
   "metadata": {},
   "source": [
    "#### Target Variable Analysis"
   ]
  },
  {
   "cell_type": "markdown",
   "metadata": {},
   "source": [
    "The target variable has 10422 falses and 1908 trues. The bar plot below visualizes the breakdown of the target variable."
   ]
  },
  {
   "cell_type": "code",
   "execution_count": 11,
   "metadata": {},
   "outputs": [
    {
     "data": {
      "image/png": "[encoded data removed]",
      "text/plain": [
       "<Figure size 432x288 with 1 Axes>"
      ]
     },
     "metadata": {
      "needs_background": "light"
     },
     "output_type": "display_data"
    }
   ],
   "source": [
    "pd.value_counts(df['Revenue']).plot.bar()\n",
    "val = pd.value_counts(df['Revenue'])\n",
    "for i, v in enumerate(val):\n",
    "    plt.text(i -0.1, v + 25, str(v))\n",
    "plt.title(\"Target Variable Breakdown\")\n",
    "plt.ylabel('Counts')\n",
    "plt.savefig('../figure/y_bar.png',dpi = 300)\n",
    "plt.show()"
   ]
  },
  {
   "cell_type": "markdown",
   "metadata": {},
   "source": [
    "## Predictor Variables - Numerical Variables"
   ]
  },
  {
   "cell_type": "markdown",
   "metadata": {},
   "source": [
    "The first 6 columns includes information about number of visits in a certain type of page and the total time spent on this type of page. The types include administrative, informational, and product-related. It is worth noticing that the number of product-related page visits shows a positive correlation with the time spent on product-related pages. A scatter plot of these two variables are shown below. "
   ]
  },
  {
   "cell_type": "code",
   "execution_count": 13,
   "metadata": {},
   "outputs": [],
   "source": [
    "# plt.scatter(df.iloc[:,0], df.iloc[:,1])\n",
    "# plt.xlabel(\"Number of Administrative Page Visits\")\n",
    "# plt.ylabel(\"Total Time Spent\")\n",
    "# plt.savefig('../figure/admin_scatter',dpi = 300)\n",
    "# plt.title(\"Administrative Page Info\")"
   ]
  },
  {
   "cell_type": "code",
   "execution_count": 16,
   "metadata": {},
   "outputs": [],
   "source": [
    "# plt.scatter(df.iloc[:,2], df.iloc[:,3])\n",
    "# plt.xlabel(\"Number of Informational Page Visits\")\n",
    "# plt.ylabel(\"Total Time Spent\")\n",
    "# plt.savefig('../figure/Info_scatter.png',dpi = 300)\n",
    "# plt.title(\"Informational Page Info\")"
   ]
  },
  {
   "cell_type": "code",
   "execution_count": 17,
   "metadata": {},
   "outputs": [
    {
     "data": {
      "image/png": "[encoded data removed]",
      "text/plain": [
       "<Figure size 432x288 with 1 Axes>"
      ]
     },
     "metadata": {
      "needs_background": "light"
     },
     "output_type": "display_data"
    }
   ],
   "source": [
    "plt.scatter(df.iloc[:,4], df.iloc[:,5])\n",
    "plt.xlabel(\"Number of Product-related Page Visits\")\n",
    "plt.ylabel(\"Total Time Spent\")\n",
    "plt.title(\"Product-related Page Info\")\n",
    "plt.savefig('../figure/prod_scatter.png',dpi = 300)\n",
    "plt.show()"
   ]
  },
  {
   "cell_type": "markdown",
   "metadata": {},
   "source": [
    "The next 4 columns are numerical variables as well. After looking at the brief statistics of these columns below, I noticed that the majority of Page Values and Special Days are zero."
   ]
  },
  {
   "cell_type": "code",
   "execution_count": 30,
   "metadata": {},
   "outputs": [
    {
     "data": {
      "text/html": [
       "<div>\n",
       "<style scoped>\n",
       "    .dataframe tbody tr th:only-of-type {\n",
       "        vertical-align: middle;\n",
       "    }\n",
       "\n",
       "    .dataframe tbody tr th {\n",
       "        vertical-align: top;\n",
       "    }\n",
       "\n",
       "    .dataframe thead th {\n",
       "        text-align: right;\n",
       "    }\n",
       "</style>\n",
       "<table border=\"1\" class=\"dataframe\">\n",
       "  <thead>\n",
       "    <tr style=\"text-align: right;\">\n",
       "      <th></th>\n",
       "      <th>BounceRates</th>\n",
       "      <th>ExitRates</th>\n",
       "      <th>PageValues</th>\n",
       "      <th>SpecialDay</th>\n",
       "    </tr>\n",
       "  </thead>\n",
       "  <tbody>\n",
       "    <tr>\n",
       "      <th>count</th>\n",
       "      <td>12330.000000</td>\n",
       "      <td>12330.000000</td>\n",
       "      <td>12330.000000</td>\n",
       "      <td>12330.000000</td>\n",
       "    </tr>\n",
       "    <tr>\n",
       "      <th>mean</th>\n",
       "      <td>0.022191</td>\n",
       "      <td>0.043073</td>\n",
       "      <td>5.889258</td>\n",
       "      <td>0.061427</td>\n",
       "    </tr>\n",
       "    <tr>\n",
       "      <th>std</th>\n",
       "      <td>0.048488</td>\n",
       "      <td>0.048597</td>\n",
       "      <td>18.568437</td>\n",
       "      <td>0.198917</td>\n",
       "    </tr>\n",
       "    <tr>\n",
       "      <th>min</th>\n",
       "      <td>0.000000</td>\n",
       "      <td>0.000000</td>\n",
       "      <td>0.000000</td>\n",
       "      <td>0.000000</td>\n",
       "    </tr>\n",
       "    <tr>\n",
       "      <th>25%</th>\n",
       "      <td>0.000000</td>\n",
       "      <td>0.014286</td>\n",
       "      <td>0.000000</td>\n",
       "      <td>0.000000</td>\n",
       "    </tr>\n",
       "    <tr>\n",
       "      <th>50%</th>\n",
       "      <td>0.003112</td>\n",
       "      <td>0.025156</td>\n",
       "      <td>0.000000</td>\n",
       "      <td>0.000000</td>\n",
       "    </tr>\n",
       "    <tr>\n",
       "      <th>75%</th>\n",
       "      <td>0.016813</td>\n",
       "      <td>0.050000</td>\n",
       "      <td>0.000000</td>\n",
       "      <td>0.000000</td>\n",
       "    </tr>\n",
       "    <tr>\n",
       "      <th>max</th>\n",
       "      <td>0.200000</td>\n",
       "      <td>0.200000</td>\n",
       "      <td>361.763742</td>\n",
       "      <td>1.000000</td>\n",
       "    </tr>\n",
       "  </tbody>\n",
       "</table>\n",
       "</div>"
      ],
      "text/plain": [
       "        BounceRates     ExitRates    PageValues    SpecialDay\n",
       "count  12330.000000  12330.000000  12330.000000  12330.000000\n",
       "mean       0.022191      0.043073      5.889258      0.061427\n",
       "std        0.048488      0.048597     18.568437      0.198917\n",
       "min        0.000000      0.000000      0.000000      0.000000\n",
       "25%        0.000000      0.014286      0.000000      0.000000\n",
       "50%        0.003112      0.025156      0.000000      0.000000\n",
       "75%        0.016813      0.050000      0.000000      0.000000\n",
       "max        0.200000      0.200000    361.763742      1.000000"
      ]
     },
     "execution_count": 30,
     "metadata": {},
     "output_type": "execute_result"
    }
   ],
   "source": [
    "df[col_names].describe()"
   ]
  },
  {
   "cell_type": "code",
   "execution_count": 19,
   "metadata": {},
   "outputs": [],
   "source": [
    "# print(df[df['BounceRates']==0].shape[0]/df.shape[0])\n",
    "# df[df['BounceRates']>0]['BounceRates'].plot.hist(bins = int(np.sqrt(df.shape[0])))   \n",
    "# plt.title(\"Histogram of Bounce Rates\")\n",
    "# plt.xlabel('Bounce Rates')\n",
    "# plt.savefig('../figure/BounceRate_hist.png',dpi = 300)\n",
    "# plt.show()"
   ]
  },
  {
   "cell_type": "code",
   "execution_count": 21,
   "metadata": {},
   "outputs": [],
   "source": [
    "# df['ExitRates'].plot.hist(bins = int(np.sqrt(df.shape[0])))   \n",
    "# plt.title(\"Histogram of Exit Rates\")\n",
    "# plt.xlabel('Exit Rates')\n",
    "# plt.savefig('../figure/ExitRate_hist.png',dpi = 300)\n",
    "# plt.show()"
   ]
  },
  {
   "cell_type": "code",
   "execution_count": 22,
   "metadata": {},
   "outputs": [
    {
     "name": "stdout",
     "output_type": "stream",
     "text": [
      "0.7785888077858881\n"
     ]
    },
    {
     "data": {
      "image/png": "[encoded data removed]",
      "text/plain": [
       "<Figure size 432x288 with 1 Axes>"
      ]
     },
     "metadata": {
      "needs_background": "light"
     },
     "output_type": "display_data"
    }
   ],
   "source": [
    "print(df[df['PageValues']==0].shape[0]/df.shape[0])\n",
    "df[df['PageValues']>0]['PageValues'].plot.hist(bins = int(np.sqrt(df.shape[0])))   \n",
    "plt.title(\"Histogram of Page Values\")\n",
    "plt.xlabel('Page Values')\n",
    "plt.savefig('../figure/PageVal_hist.png',dpi = 300)\n",
    "plt.show()"
   ]
  },
  {
   "cell_type": "markdown",
   "metadata": {},
   "source": [
    "Since 77.9% of this data is zero, a histogram excluding the zeros gives an over view of the distribution of the remaining data."
   ]
  },
  {
   "cell_type": "markdown",
   "metadata": {},
   "source": [
    "Since The special day measures the closesness of the purchase date to a special date, I will treat this variable as ordinal variable in future analysis."
   ]
  },
  {
   "cell_type": "code",
   "execution_count": 62,
   "metadata": {},
   "outputs": [
    {
     "data": {
      "text/plain": [
       "0.0    11079\n",
       "0.2      178\n",
       "0.4      243\n",
       "0.6      351\n",
       "0.8      325\n",
       "1.0      154\n",
       "Name: SpecialDay, dtype: int64"
      ]
     },
     "execution_count": 62,
     "metadata": {},
     "output_type": "execute_result"
    }
   ],
   "source": [
    "df['SpecialDay'].value_counts().sort_index()"
   ]
  },
  {
   "cell_type": "code",
   "execution_count": 24,
   "metadata": {},
   "outputs": [
    {
     "data": {
      "image/png": "[encoded data removed]",
      "text/plain": [
       "<Figure size 432x288 with 1 Axes>"
      ]
     },
     "metadata": {
      "needs_background": "light"
     },
     "output_type": "display_data"
    }
   ],
   "source": [
    "count_matrix = df.groupby(['SpecialDay', 'Revenue']).size().unstack()\n",
    "count_matrix_norm = count_matrix.div(count_matrix.sum(axis=1),axis=0)\n",
    "count_matrix_norm.plot(kind='bar', stacked=True)\n",
    "plt.ylabel('fraction of users make purchase')\n",
    "plt.title('Special Day and Target Variable breakdown')\n",
    "plt.savefig('../figure/SD_bar.png',dpi = 300)\n",
    "plt.show()"
   ]
  },
  {
   "cell_type": "markdown",
   "metadata": {},
   "source": [
    "This figures shows the fraction of users make purchases with the corresponding special date variable.It is interesting to see that fewer people make purchaes at 0.4 and 0.8 compare to other special day numbers."
   ]
  },
  {
   "cell_type": "markdown",
   "metadata": {},
   "source": [
    "## Predictor Variables - Categorical Variables"
   ]
  },
  {
   "cell_type": "markdown",
   "metadata": {},
   "source": [
    "There are many categorical variables in this dataset, here is the breakdown of month and purchases."
   ]
  },
  {
   "cell_type": "code",
   "execution_count": 66,
   "metadata": {},
   "outputs": [
    {
     "data": {
      "text/plain": [
       "May     3364\n",
       "Nov     2998\n",
       "Mar     1907\n",
       "Dec     1727\n",
       "Oct      549\n",
       "Sep      448\n",
       "Aug      433\n",
       "Jul      432\n",
       "June     288\n",
       "Feb      184\n",
       "Name: Month, dtype: int64"
      ]
     },
     "execution_count": 66,
     "metadata": {},
     "output_type": "execute_result"
    }
   ],
   "source": [
    "df['Month'].value_counts()"
   ]
  },
  {
   "cell_type": "code",
   "execution_count": 68,
   "metadata": {},
   "outputs": [
    {
     "data": {
      "image/png": "[encoded data removed]",
      "text/plain": [
       "<Figure size 432x288 with 1 Axes>"
      ]
     },
     "metadata": {
      "needs_background": "light"
     },
     "output_type": "display_data"
    }
   ],
   "source": [
    "count_matrix = df.groupby(['Month', 'Revenue']).size().unstack()\n",
    "count_matrix_norm = count_matrix.div(count_matrix.sum(axis=1),axis=0)\n",
    "count_matrix_norm.plot(kind='bar', stacked=True)\n",
    "plt.ylabel('fraction of users make purchase')\n",
    "plt.title( 'Month and Target Variable breakdown')\n",
    "plt.show()"
   ]
  },
  {
   "cell_type": "markdown",
   "metadata": {},
   "source": [
    "This figure shows the fraction of purchases make in each month. January and April is not present in the dataset. A small fraction of users make purchases in Feb and a relatively large proportion of users make purchases in their visits in Novernmber.  "
   ]
  },
  {
   "cell_type": "code",
   "execution_count": 69,
   "metadata": {},
   "outputs": [],
   "source": [
    "# names = ['Month', 'OperatingSystems', 'Browser', 'Region', 'TrafficType', 'VisitorType', 'Weekend']\n",
    "# for name in names:\n",
    "#     count_matrix = df.groupby([name, 'Revenue']).size().unstack()\n",
    "#     count_matrix_norm = count_matrix.div(count_matrix.sum(axis=1),axis=0)\n",
    "#     count_matrix_norm.plot(kind='bar', stacked=True)\n",
    "#     plt.ylabel('fraction of users make purchase')\n",
    "#     plt.title(name + ' and Target Variable breakdown')\n",
    "#     plt.savefig('../figure/'+name+'_bar.png',dpi = 300)\n",
    "#     plt.show()"
   ]
  },
  {
   "cell_type": "markdown",
   "metadata": {},
   "source": [
    "# Data Preprocessing"
   ]
  },
  {
   "cell_type": "markdown",
   "metadata": {},
   "source": [
    "Since each rows represents a unique visit from an anonymous users, this dataset is iid. Hence, it does not have a group structure, and it is not a time series data.\n",
    "Because only a small portion of the dataset has true in the revenue column, I will perform a Stratified K-Fold data split to ensure there are similar fraction of trues in target variable in the training, validation, and testing dataset. I will use the standard 60%, 20%, 20% data split."
   ]
  },
  {
   "cell_type": "code",
   "execution_count": 85,
   "metadata": {},
   "outputs": [],
   "source": [
    "y = df['Revenue'] # remember, we want to predict who earns more than 50k or less than 50k\n",
    "X = df.loc[:, df.columns != 'Revenue']"
   ]
  },
  {
   "cell_type": "code",
   "execution_count": 87,
   "metadata": {},
   "outputs": [
    {
     "name": "stdout",
     "output_type": "stream",
     "text": [
      "test balance: False    0.845093\n",
      "True     0.154907\n",
      "Name: Revenue, dtype: float64\n",
      "train balance:\n",
      "False    0.845228\n",
      "True     0.154772\n",
      "Name: Revenue, dtype: float64\n",
      "val balance:\n",
      "False    0.845499\n",
      "True     0.154501\n",
      "Name: Revenue, dtype: float64\n",
      "train balance:\n",
      "False    0.845228\n",
      "True     0.154772\n",
      "Name: Revenue, dtype: float64\n",
      "val balance:\n",
      "False    0.845499\n",
      "True     0.154501\n",
      "Name: Revenue, dtype: float64\n",
      "train balance:\n",
      "False    0.845364\n",
      "True     0.154636\n",
      "Name: Revenue, dtype: float64\n",
      "val balance:\n",
      "False    0.845093\n",
      "True     0.154907\n",
      "Name: Revenue, dtype: float64\n",
      "train balance:\n",
      "False    0.845364\n",
      "True     0.154636\n",
      "Name: Revenue, dtype: float64\n",
      "val balance:\n",
      "False    0.845093\n",
      "True     0.154907\n",
      "Name: Revenue, dtype: float64\n"
     ]
    }
   ],
   "source": [
    "from sklearn.model_selection import StratifiedKFold\n",
    "from sklearn.model_selection import train_test_split \n",
    "from sklearn.model_selection import KFold\n",
    "random_state = 10\n",
    "    \n",
    "# stratified train-test split\n",
    "X_other, X_test, y_other, y_test = train_test_split(X,y,test_size = 0.2,stratify=y,random_state=random_state)\n",
    "print('test balance:',y_test.value_counts(normalize=True))\n",
    "\n",
    "# do StratifiedKFold split on other\n",
    "kf = StratifiedKFold(n_splits=4,shuffle=True,random_state=random_state)\n",
    "for train_index, val_index in kf.split(X_other,y_other):\n",
    "    X_train = X_other.iloc[train_index]\n",
    "    y_train = y_other.iloc[train_index]\n",
    "    X_val = X_other.iloc[val_index]\n",
    "    y_val = y_other.iloc[val_index]\n",
    "    print('train balance:')\n",
    "    print(y_train.value_counts(normalize=True))\n",
    "    print('val balance:')\n",
    "    print(y_val.value_counts(normalize=True))"
   ]
  },
  {
   "cell_type": "markdown",
   "metadata": {},
   "source": [
    "From exploratory analysis, I find many numerical variables are heavily tailed or has a few extremely large values, so I will use Standard Scaler to transform the continuous variables. The SpecialDate variable although it is numerical, it represents the closeness of the purchase date to the special date, I will treat it as a categorical feature and use Ordinal Encoder to transform. I will transform the remaining categorical features using OneHotEncoder. The target variables are true and false, which does not need any transformation.\n",
    "\n",
    "There are 17 features in the processed dataset. After preprocessing, the 17 predictor columns has expanded to 74 columns. "
   ]
  },
  {
   "cell_type": "code",
   "execution_count": 100,
   "metadata": {},
   "outputs": [],
   "source": [
    "from sklearn.compose import ColumnTransformer\n",
    "from sklearn.pipeline import Pipeline\n",
    "from sklearn.preprocessing import StandardScaler, OneHotEncoder, OrdinalEncoder, MinMaxScaler\n",
    "from sklearn.model_selection import train_test_split\n",
    "from sklearn import preprocessing"
   ]
  },
  {
   "cell_type": "code",
   "execution_count": 102,
   "metadata": {},
   "outputs": [
    {
     "name": "stdout",
     "output_type": "stream",
     "text": [
      "(7398, 17)\n",
      "(7398, 74)\n"
     ]
    }
   ],
   "source": [
    "ordinal_ftrs = ['SpecialDay'] \n",
    "ordinal_cats = [[0. , 0.2, 0.4, 0.6, 0.8, 1.]]\n",
    "onehot_ftrs = ['Month',  'OperatingSystems', 'Browser', 'Region', 'TrafficType', 'VisitorType',  'Weekend']\n",
    "#minmax_ftrs = ['age','hours-per-week']\n",
    "std_ftrs = ['Administrative', 'Administrative_Duration', 'Informational', 'Informational_Duration', 'ProductRelated', 'ProductRelated_Duration',\n",
    "       'BounceRates', 'ExitRates', 'PageValues']\n",
    "\n",
    "# collect all the encoders\n",
    "preprocessor = ColumnTransformer(\n",
    "    transformers=[\n",
    "        ('ord', OrdinalEncoder(categories = ordinal_cats), ordinal_ftrs),\n",
    "        ('onehot', OneHotEncoder(sparse=False,handle_unknown='ignore'), onehot_ftrs),\n",
    "        ('std', StandardScaler(), std_ftrs)])\n",
    "\n",
    "clf = Pipeline(steps=[('preprocessor', preprocessor)])\n",
    "\n",
    "X_train_prep = clf.fit_transform(X_train)\n",
    "X_val_prep = clf.transform(X_val)\n",
    "X_test_prep = clf.transform(X_test)\n",
    "\n",
    "print(X_train.shape)\n",
    "print(X_train_prep.shape)\n",
    "\n"
   ]
  },
  {
   "cell_type": "markdown",
   "metadata": {},
   "source": [
    "# Reference"
   ]
  },
  {
   "cell_type": "markdown",
   "metadata": {},
   "source": [
    "Sakar, C.O., Polat, S.O., Katircioglu, M. et al. Neural Comput & Applic (2018)."
   ]
  }
 ],
 "metadata": {
  "kernelspec": {
   "display_name": "Python 3",
   "language": "python",
   "name": "python3"
  },
  "language_info": {
   "codemirror_mode": {
    "name": "ipython",
    "version": 3
   },
   "file_extension": ".py",
   "mimetype": "text/x-python",
   "name": "python",
   "nbconvert_exporter": "python",
   "pygments_lexer": "ipython3",
   "version": "3.7.8"
  }
 },
 "nbformat": 4,
 "nbformat_minor": 4
}
